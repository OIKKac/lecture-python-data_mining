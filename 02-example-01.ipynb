{
 "cells": [
  {
   "cell_type": "code",
   "execution_count": 3,
   "metadata": {},
   "outputs": [],
   "source": [
    "a,b='var1', 'var2'"
   ]
  },
  {
   "cell_type": "code",
   "execution_count": 4,
   "metadata": {},
   "outputs": [
    {
     "data": {
      "text/plain": [
       "('var1', 'var2')"
      ]
     },
     "execution_count": 4,
     "metadata": {},
     "output_type": "execute_result"
    }
   ],
   "source": [
    "a,b"
   ]
  },
  {
   "cell_type": "code",
   "execution_count": 5,
   "metadata": {},
   "outputs": [
    {
     "data": {
      "text/plain": [
       "'var1'"
      ]
     },
     "execution_count": 5,
     "metadata": {},
     "output_type": "execute_result"
    }
   ],
   "source": [
    "a"
   ]
  },
  {
   "cell_type": "code",
   "execution_count": 6,
   "metadata": {},
   "outputs": [],
   "source": [
    "a=100\n",
    "b=3.14\n",
    "c=True"
   ]
  },
  {
   "cell_type": "code",
   "execution_count": 7,
   "metadata": {
    "scrolled": true
   },
   "outputs": [
    {
     "name": "stdout",
     "output_type": "stream",
     "text": [
      "a의 값은? 100\n",
      "a의 데이터 변수 형태는?: <class 'int'>\n",
      "b의 값은? 3.14\n",
      "b의 데이터 변수 형태는?: <class 'float'>\n",
      "c의 값은? True\n",
      "c의 데이터 변수 형태는?: <class 'bool'>\n"
     ]
    }
   ],
   "source": [
    "print(\"a의 값은?\", a)\n",
    "print(\"a의 데이터 변수 형태는?:\", type(a))\n",
    "print(\"b의 값은?\", b)\n",
    "print(\"b의 데이터 변수 형태는?:\", type(b))\n",
    "print(\"c의 값은?\", c)\n",
    "print(\"c의 데이터 변수 형태는?:\", type(c))"
   ]
  },
  {
   "cell_type": "code",
   "execution_count": 3,
   "metadata": {},
   "outputs": [],
   "source": [
    "a = True"
   ]
  },
  {
   "cell_type": "code",
   "execution_count": 5,
   "metadata": {},
   "outputs": [
    {
     "data": {
      "text/plain": [
       "bool"
      ]
     },
     "execution_count": 5,
     "metadata": {},
     "output_type": "execute_result"
    }
   ],
   "source": [
    "type(a)"
   ]
  },
  {
   "cell_type": "code",
   "execution_count": 21,
   "metadata": {},
   "outputs": [],
   "source": [
    "sentence = '안녕하세요.' + ' ' +  \"반갑습니다.\""
   ]
  },
  {
   "cell_type": "code",
   "execution_count": 22,
   "metadata": {},
   "outputs": [
    {
     "data": {
      "text/plain": [
       "'안녕하세요. 반갑습니다.'"
      ]
     },
     "execution_count": 22,
     "metadata": {},
     "output_type": "execute_result"
    }
   ],
   "source": [
    "sentence"
   ]
  },
  {
   "cell_type": "code",
   "execution_count": 23,
   "metadata": {},
   "outputs": [
    {
     "data": {
      "text/plain": [
       "['안녕하세요.', '반갑습니다.']"
      ]
     },
     "execution_count": 23,
     "metadata": {},
     "output_type": "execute_result"
    }
   ],
   "source": [
    "sentence.split()"
   ]
  },
  {
   "cell_type": "code",
   "execution_count": 27,
   "metadata": {},
   "outputs": [
    {
     "data": {
      "text/plain": [
       "7"
      ]
     },
     "execution_count": 27,
     "metadata": {},
     "output_type": "execute_result"
    }
   ],
   "source": [
    "sentence.find('반갑습니다.')\n"
   ]
  },
  {
   "cell_type": "code",
   "execution_count": 28,
   "metadata": {},
   "outputs": [
    {
     "data": {
      "text/plain": [
       "-1"
      ]
     },
     "execution_count": 28,
     "metadata": {},
     "output_type": "execute_result"
    }
   ],
   "source": [
    "sentence.find('python')"
   ]
  },
  {
   "cell_type": "code",
   "execution_count": 29,
   "metadata": {},
   "outputs": [
    {
     "data": {
      "text/plain": [
       "'안녕하세요! 반갑습니다!'"
      ]
     },
     "execution_count": 29,
     "metadata": {},
     "output_type": "execute_result"
    }
   ],
   "source": [
    "sentence.replace('.','!')"
   ]
  },
  {
   "cell_type": "code",
   "execution_count": 31,
   "metadata": {},
   "outputs": [
    {
     "data": {
      "text/plain": [
       "'하세요. 반갑습니다.'"
      ]
     },
     "execution_count": 31,
     "metadata": {},
     "output_type": "execute_result"
    }
   ],
   "source": [
    "sentence.strip('안녕')"
   ]
  },
  {
   "cell_type": "code",
   "execution_count": 41,
   "metadata": {},
   "outputs": [],
   "source": [
    "data =[10,20,30,40,50,60] #data를 list형태로 생성"
   ]
  },
  {
   "cell_type": "code",
   "execution_count": 33,
   "metadata": {},
   "outputs": [
    {
     "name": "stdout",
     "output_type": "stream",
     "text": [
      "[10, 20, 30, 40, 50, 60]\n"
     ]
    },
    {
     "data": {
      "text/plain": [
       "list"
      ]
     },
     "execution_count": 33,
     "metadata": {},
     "output_type": "execute_result"
    }
   ],
   "source": [
    "print(data)\n",
    "type(data)"
   ]
  },
  {
   "cell_type": "code",
   "execution_count": 42,
   "metadata": {},
   "outputs": [
    {
     "name": "stdout",
     "output_type": "stream",
     "text": [
      "10\n",
      "50\n"
     ]
    }
   ],
   "source": [
    "print(data[0])\n",
    "print(data[4])"
   ]
  },
  {
   "cell_type": "code",
   "execution_count": 43,
   "metadata": {},
   "outputs": [
    {
     "name": "stdout",
     "output_type": "stream",
     "text": [
      "[50, 20, 30, 40, 50, 60]\n"
     ]
    }
   ],
   "source": [
    "data[0]=data[4]\n",
    "print(data)"
   ]
  },
  {
   "cell_type": "code",
   "execution_count": 45,
   "metadata": {},
   "outputs": [
    {
     "name": "stdout",
     "output_type": "stream",
     "text": [
      "사과\n"
     ]
    }
   ],
   "source": [
    "data = [\"사과\", \"배\", \"포도\", \"딸기\", \"토마토\", \"메론\"]\n",
    "print(data[0])"
   ]
  },
  {
   "cell_type": "code",
   "execution_count": 46,
   "metadata": {},
   "outputs": [
    {
     "name": "stdout",
     "output_type": "stream",
     "text": [
      "['포도', '딸기']\n"
     ]
    }
   ],
   "source": [
    "print(data[2:4])"
   ]
  },
  {
   "cell_type": "code",
   "execution_count": 48,
   "metadata": {},
   "outputs": [],
   "source": [
    "data_1 = [10, 20, 30, 40, 50]\n",
    "data_2 = [5, 10, 15, 20, 25]"
   ]
  },
  {
   "cell_type": "code",
   "execution_count": 49,
   "metadata": {},
   "outputs": [
    {
     "data": {
      "text/plain": [
       "[10, 20, 30, 40, 50, 5, 10, 15, 20, 25]"
      ]
     },
     "execution_count": 49,
     "metadata": {},
     "output_type": "execute_result"
    }
   ],
   "source": [
    "data_1 + data_2"
   ]
  },
  {
   "cell_type": "code",
   "execution_count": 57,
   "metadata": {},
   "outputs": [
    {
     "name": "stdout",
     "output_type": "stream",
     "text": [
      "[1, 100, 'python']\n",
      "<class 'list'>\n"
     ]
    }
   ],
   "source": [
    "lists = [1, 100, 'python']\n",
    "print(lists)\n",
    "print(type(lists))"
   ]
  },
  {
   "cell_type": "code",
   "execution_count": 58,
   "metadata": {},
   "outputs": [
    {
     "name": "stdout",
     "output_type": "stream",
     "text": [
      "[1, 100, 'python', 'py']\n"
     ]
    }
   ],
   "source": [
    "lists.append('py')\n",
    "print(lists)"
   ]
  },
  {
   "cell_type": "code",
   "execution_count": 59,
   "metadata": {},
   "outputs": [
    {
     "name": "stdout",
     "output_type": "stream",
     "text": [
      "[1, '0.5', 100, 'python', 'py']\n"
     ]
    }
   ],
   "source": [
    "lists.insert(1,'0.5')\n",
    "print(lists)"
   ]
  },
  {
   "cell_type": "code",
   "execution_count": 60,
   "metadata": {},
   "outputs": [
    {
     "name": "stdout",
     "output_type": "stream",
     "text": [
      "[1, '0.5', 100, 'py']\n"
     ]
    }
   ],
   "source": [
    "lists.remove('python')\n",
    "print(lists)"
   ]
  },
  {
   "cell_type": "code",
   "execution_count": 64,
   "metadata": {},
   "outputs": [],
   "source": [
    "data_list = [10, 20, 30, 40, 50, 60, 70]"
   ]
  },
  {
   "cell_type": "markdown",
   "metadata": {},
   "source": [
    "print(\"최소값: \". min(data_list)) "
   ]
  },
  {
   "cell_type": "markdown",
   "metadata": {},
   "source": [
    "print(\"최소값: \", min(data_list))\n",
    "print(\"최대값: \", max(data_list))"
   ]
  },
  {
   "cell_type": "code",
   "execution_count": 68,
   "metadata": {},
   "outputs": [],
   "source": [
    "data_list = [50, 20, 40, 30, 60, 90]"
   ]
  },
  {
   "cell_type": "code",
   "execution_count": 71,
   "metadata": {},
   "outputs": [
    {
     "name": "stdout",
     "output_type": "stream",
     "text": [
      "[20, 30, 40, 50, 60, 90]\n"
     ]
    }
   ],
   "source": [
    "data_list.sort()\n",
    "print(data_list)"
   ]
  },
  {
   "cell_type": "code",
   "execution_count": 72,
   "metadata": {},
   "outputs": [],
   "source": [
    "p = 1  + 2"
   ]
  },
  {
   "cell_type": "code",
   "execution_count": 76,
   "metadata": {},
   "outputs": [
    {
     "name": "stdout",
     "output_type": "stream",
     "text": [
      "('사과', '배', '포도', '토마토', '딸기')\n",
      "<class 'tuple'>\n"
     ]
    }
   ],
   "source": [
    "# tuple: 한번 값이 항목되면 변경이 불가함\n",
    "data = (\"사과\", \"배\", \"포도\", \"토마토\", \"딸기\")\n",
    "\n",
    "print(data)\n",
    "print(type(data))"
   ]
  },
  {
   "cell_type": "code",
   "execution_count": 78,
   "metadata": {},
   "outputs": [
    {
     "ename": "TypeError",
     "evalue": "'tuple' object does not support item assignment",
     "output_type": "error",
     "traceback": [
      "\u001b[1;31m---------------------------------------------------------------------------\u001b[0m",
      "\u001b[1;31mTypeError\u001b[0m                                 Traceback (most recent call last)",
      "\u001b[1;32m<ipython-input-78-45d361597181>\u001b[0m in \u001b[0;36m<module>\u001b[1;34m\u001b[0m\n\u001b[1;32m----> 1\u001b[1;33m \u001b[0mdata\u001b[0m\u001b[1;33m[\u001b[0m\u001b[1;36m0\u001b[0m\u001b[1;33m]\u001b[0m \u001b[1;33m=\u001b[0m \u001b[1;36m100\u001b[0m\u001b[1;33m\u001b[0m\u001b[1;33m\u001b[0m\u001b[0m\n\u001b[0m",
      "\u001b[1;31mTypeError\u001b[0m: 'tuple' object does not support item assignment"
     ]
    }
   ],
   "source": [
    "data[0] = 100"
   ]
  },
  {
   "cell_type": "code",
   "execution_count": 87,
   "metadata": {},
   "outputs": [
    {
     "name": "stdout",
     "output_type": "stream",
     "text": [
      "<class 'tuple'>\n",
      "3\n"
     ]
    }
   ],
   "source": [
    "data = (100, 200, 100, 300, 100, 500)\n",
    "print(type(data))\n",
    "print(data.count(100))"
   ]
  },
  {
   "cell_type": "code",
   "execution_count": 90,
   "metadata": {},
   "outputs": [
    {
     "name": "stdout",
     "output_type": "stream",
     "text": [
      "(100, 300)\n"
     ]
    }
   ],
   "source": [
    "print(data[2:4])"
   ]
  },
  {
   "cell_type": "code",
   "execution_count": 92,
   "metadata": {},
   "outputs": [
    {
     "name": "stdout",
     "output_type": "stream",
     "text": [
      "('사과', '배', '포도', '토마토', '딸기', 100, 200, 300, 400, 500)\n"
     ]
    }
   ],
   "source": [
    "data1 = (\"사과\", \"배\", \"포도\", \"토마토\", \"딸기\")\n",
    "data2 = (100, 200, 300, 400, 500)\n",
    "data = data1 + data2\n",
    "print(data)"
   ]
  },
  {
   "cell_type": "code",
   "execution_count": 94,
   "metadata": {},
   "outputs": [
    {
     "name": "stdout",
     "output_type": "stream",
     "text": [
      "('사과', '배', '포도', '토마토', '딸기', 100, 200, 300, 400, 500, '사과', '배', '포도', '토마토', '딸기', 100, 200, 300, 400, 500)\n"
     ]
    }
   ],
   "source": [
    "#튜플 반복\n",
    "print(data*2)"
   ]
  },
  {
   "cell_type": "code",
   "execution_count": 97,
   "metadata": {},
   "outputs": [
    {
     "name": "stdout",
     "output_type": "stream",
     "text": [
      "<class 'set'>\n"
     ]
    }
   ],
   "source": [
    "#set: 항목의 순서가 없음, 중복이 없음, 추가가 가능, 인덱스와 연산이 불가능\n",
    "data = {100, 200, 300}\n",
    "print(type(data))"
   ]
  },
  {
   "cell_type": "code",
   "execution_count": 99,
   "metadata": {},
   "outputs": [
    {
     "name": "stdout",
     "output_type": "stream",
     "text": [
      "{100, 200, 300, 400, 500, 600}\n",
      "{100, 200, 300, 400, 500, 600, 700}\n"
     ]
    }
   ],
   "source": [
    "data = {100, 200, 300, 400, 500, 600}\n",
    "print(data)\n",
    "data.add(700)\n",
    "print(data)"
   ]
  },
  {
   "cell_type": "code",
   "execution_count": 105,
   "metadata": {},
   "outputs": [
    {
     "name": "stdout",
     "output_type": "stream",
     "text": [
      "여러 데이터를 추가하기 전\n",
      "{100}\n",
      "\n"
     ]
    }
   ],
   "source": [
    "data = {100}\n",
    "print(\"여러 데이터를 추가하기 전\")\n",
    "print(data)\n",
    "\n",
    "print()"
   ]
  },
  {
   "cell_type": "code",
   "execution_count": 110,
   "metadata": {},
   "outputs": [
    {
     "name": "stdout",
     "output_type": "stream",
     "text": [
      "여러 개의 데이터를 추가한 후\n",
      "{100, 200, 300, 400, 500, 600}\n"
     ]
    }
   ],
   "source": [
    "data.update([200, 300, 400, 500, 600])\n",
    "print(\"여러 개의 데이터를 추가한 후\")\n",
    "print(data)"
   ]
  },
  {
   "cell_type": "code",
   "execution_count": 113,
   "metadata": {},
   "outputs": [
    {
     "name": "stdout",
     "output_type": "stream",
     "text": [
      "데이터를 삭제하기 전\n",
      "{100, 200, 300, 400, 500, 600}\n",
      "데이터를 삭제한 후\n",
      "{100, 200, 300, 400, 500}\n"
     ]
    }
   ],
   "source": [
    "data = {100, 200, 300, 400, 500, 600}\n",
    "print(\"데이터를 삭제하기 전\")\n",
    "print(data)\n",
    "# 세트 자료구조에서 remove를 이용하여 데이터를 제거\n",
    "data.remove(600)\n",
    "\n",
    "print(\"데이터를 삭제한 후\")\n",
    "print(data)"
   ]
  },
  {
   "cell_type": "code",
   "execution_count": 115,
   "metadata": {},
   "outputs": [
    {
     "name": "stdout",
     "output_type": "stream",
     "text": [
      "데이터를 삭제하기 전\n",
      "{100, 200, 300, 400, 500, 600}\n",
      "\n",
      "set()\n"
     ]
    }
   ],
   "source": [
    "#데이터 초기화\n",
    "data = {100, 200, 300, 400, 500 ,600}\n",
    "print(\"데이터를 삭제하기 전\")\n",
    "print(data)\n",
    "\n",
    "print()\n",
    "# 세트 자료구조에서 clear를 이용하여 전체 데이터를  초기화\n",
    "data.clear()\n",
    "print(data)"
   ]
  },
  {
   "cell_type": "code",
   "execution_count": 131,
   "metadata": {},
   "outputs": [
    {
     "name": "stdout",
     "output_type": "stream",
     "text": [
      "{100, 200, 300, 400, 500}\n",
      "<class 'set'>\n",
      "{100, 200, 300, 150, 250}\n",
      "<class 'set'>\n",
      "\n",
      "intersection은 교집합을 나타내는 함수\n",
      "{200, 100, 300}\n",
      "{200, 100, 300}\n"
     ]
    }
   ],
   "source": [
    "# 세트 교집합\n",
    "A = {100, 200, 300, 400, 500}\n",
    "B = {100, 150, 200, 250, 300}\n",
    "print(A)\n",
    "print(type(A))\n",
    "print(B)\n",
    "print(type(B))\n",
    "print()\n",
    "#intersection함수는 교집합을 나타내는 함수\n",
    "print(\"intersection은 교집합을 나타내는 함수\")\n",
    "print(A.intersection(B))\n",
    "print(B.intersection(A))"
   ]
  },
  {
   "cell_type": "code",
   "execution_count": 129,
   "metadata": {},
   "outputs": [
    {
     "name": "stdout",
     "output_type": "stream",
     "text": [
      "{100, 200, 300, 400, 500}\n",
      "<class 'set'>\n",
      "{100, 200, 300, 150, 250}\n",
      "<class 'set'>\n",
      "\n",
      "difference는 차집합을 나타내는 함수\n",
      "A:  {400, 500}\n",
      "B:  {250, 150}\n"
     ]
    }
   ],
   "source": [
    "# 세트 차집합\n",
    "A = {100, 200, 300, 400, 500}\n",
    "B = {100, 150, 200, 250, 300}\n",
    "print(A)\n",
    "print(type(A))\n",
    "print(B)\n",
    "print(type(B))\n",
    "print()\n",
    "#differnce는 차집합을 나타내는 함수\n",
    "print(\"difference는 차집합을 나타내는 함수\")\n",
    "print('A: ', A.difference(B))\n",
    "print(\"B: \" , B.difference(A))"
   ]
  },
  {
   "cell_type": "code",
   "execution_count": 132,
   "metadata": {},
   "outputs": [
    {
     "name": "stdout",
     "output_type": "stream",
     "text": [
      "{100, 200, 300, 400, 500}\n",
      "<class 'set'>\n",
      "{100, 200, 300, 150, 250}\n",
      "<class 'set'>\n",
      "\n",
      "union은 합집합을 나타내는 함수\n",
      "{100, 200, 300, 400, 500, 150, 250}\n"
     ]
    }
   ],
   "source": [
    "# 세트 합집합\n",
    "A = {100, 200, 300, 400, 500}\n",
    "B = {100, 150, 200, 250, 300}\n",
    "print(A)\n",
    "print(type(A))\n",
    "print(B)\n",
    "print(type(B))\n",
    "print()\n",
    "# union은 합집합을 나타내는 함수\n",
    "print(\"union은 합집합을 나타내는 함수\")\n",
    "print(A.union(B))"
   ]
  },
  {
   "cell_type": "code",
   "execution_count": 142,
   "metadata": {},
   "outputs": [
    {
     "name": "stdout",
     "output_type": "stream",
     "text": [
      "{100, 200, 300, 400, 500}\n",
      "<class 'set'>\n",
      "{100, 200, 300, 150, 250}\n",
      "<class 'set'>\n",
      "\n",
      "합집합:  {100, 200, 300, 400, 500, 150, 250}\n",
      "교집합:  {200, 100, 300}\n",
      "\n",
      "symmetric_difference함수는 합집합에서 교집합을 뺀 나머지 집합을 나타내는 함수\n",
      "{400, 500, 150, 250}\n"
     ]
    }
   ],
   "source": [
    "# 합집합 - 교집합\n",
    "A = {100, 200, 300, 400, 500}\n",
    "B = {100, 150, 200, 250, 300}\n",
    "print(A)\n",
    "print(type(A))\n",
    "print(B)\n",
    "print(type(B))\n",
    "print()\n",
    "\n",
    "print(\"합집합: \", A.union(B))\n",
    "print(\"교집합: \", A.intersection(B))\n",
    "print()\n",
    "\n",
    "print(\"symmetric_difference함수는 합집합에서 교집합을 뺀 나머지 집합을 나타내는 함수\")\n",
    "print(A.symmetric_difference(B))"
   ]
  },
  {
   "cell_type": "code",
   "execution_count": 153,
   "metadata": {},
   "outputs": [
    {
     "name": "stdout",
     "output_type": "stream",
     "text": [
      "<class 'dict'>\n"
     ]
    }
   ],
   "source": [
    "#딕셔너리(dictionary)의 기본 구조는 다음과 같이 표현할 수 있음\n",
    "data = {\"사과\": 300, \"배\":200, \"포도\":500, \"딸기\":700 }\n",
    "print(type(data))"
   ]
  },
  {
   "cell_type": "code",
   "execution_count": 149,
   "metadata": {},
   "outputs": [
    {
     "name": "stdout",
     "output_type": "stream",
     "text": [
      "300\n",
      "300\n"
     ]
    }
   ],
   "source": [
    "print(data[\"사과\"])\n",
    "print(data.get(\"사과\"))"
   ]
  },
  {
   "cell_type": "code",
   "execution_count": 162,
   "metadata": {},
   "outputs": [
    {
     "name": "stdout",
     "output_type": "stream",
     "text": [
      "딕셔너리에 추가하기 전체 데이터\n",
      "{'사과': 300, '배': 200, '포도': 500, '딸기': 700}\n",
      "\n",
      "딕셔너리에 추가한 후 전체 데이터\n",
      "{'사과': 300, '배': 200, '포도': 500, '딸기': 700, '메론': 1000}\n"
     ]
    }
   ],
   "source": [
    "data = {\"사과\": 300, \"배\":200, \"포도\":500, \"딸기\":700 }\n",
    "print(\"딕셔너리에 추가하기 전체 데이터\")\n",
    "print(data)\n",
    "\n",
    "print()\n",
    "\n",
    "#딕셔너리에 데이터를 추가할 때는 아래와 같이 키를 설정하고 값을 입력함\n",
    "data['메론'] = 1000\n",
    "print(\"딕셔너리에 추가한 후 전체 데이터\")\n",
    "print(data)"
   ]
  },
  {
   "cell_type": "code",
   "execution_count": 164,
   "metadata": {},
   "outputs": [
    {
     "name": "stdout",
     "output_type": "stream",
     "text": [
      "딕셔너리에 삭제하기 전 전체 데이터\n",
      "{'사과': 300, '배': 200, '포도': 500, '딸기': 700}\n",
      "딕셔너리에 삭제한 후 전체 데이터\n",
      "{'배': 200, '포도': 500, '딸기': 700}\n"
     ]
    }
   ],
   "source": [
    "#딕셔너리 데이터 예제를 data변수에 입력\n",
    "data = {\"사과\": 300, \"배\":200, \"포도\":500, \"딸기\":700 }\n",
    "print(\"딕셔너리에 삭제하기 전 전체 데이터\")\n",
    "print(data)\n",
    "\n",
    "#딕셔너리 pop함수를 이용해 데이터를 삭제 가능\n",
    "print(\"딕셔너리에 삭제한 후 전체 데이터\")\n",
    "data.pop(\"사과\")\n",
    "print(data)\n"
   ]
  },
  {
   "cell_type": "code",
   "execution_count": 1,
   "metadata": {},
   "outputs": [
    {
     "name": "stdout",
     "output_type": "stream",
     "text": [
      "딕셔너리에 삭제하기 전 전체 데이터\n",
      "{'사과': 300, '배': 200, '포도': 500, '딸기': 700}\n",
      "\n",
      "['딸기', '배', '사과', '포도']\n",
      "\n",
      "\n",
      "[200, 300, 500, 700]\n"
     ]
    }
   ],
   "source": [
    "data = {\"사과\": 300, \"배\":200, \"포도\":500, \"딸기\":700 }\n",
    "print(\"딕셔너리에 삭제하기 전 전체 데이터\")\n",
    "print(data)\n",
    "\n",
    "print()\n",
    "#sorted 정렬시키는 내장함수\n",
    "print(sorted(data))\n",
    "print()\n",
    "# value값을 이용해 정렬하고 싶으면 아래와 같이 실행\n",
    "print()\n",
    "print(sorted(data.values()))"
   ]
  },
  {
   "cell_type": "markdown",
   "metadata": {},
   "source": [
    "## 제어문 및 반복문"
   ]
  },
  {
   "cell_type": "code",
   "execution_count": 1,
   "metadata": {},
   "outputs": [
    {
     "name": "stdout",
     "output_type": "stream",
     "text": [
      "일치\n"
     ]
    }
   ],
   "source": [
    "#if 문 예제 1\n",
    "a = 100\n",
    "if a == 100:\n",
    "    print(\"일치\")\n",
    "else:\n",
    "    print(\"불일치\")"
   ]
  },
  {
   "cell_type": "code",
   "execution_count": 2,
   "metadata": {},
   "outputs": [
    {
     "name": "stdout",
     "output_type": "stream",
     "text": [
      "불일치\n"
     ]
    }
   ],
   "source": [
    "#if문 예제2\n",
    "a = 200\n",
    "if a == 100:\n",
    "    print(\"일치\")\n",
    "else:\n",
    "    print(\"불일치\")"
   ]
  },
  {
   "cell_type": "code",
   "execution_count": 3,
   "metadata": {},
   "outputs": [
    {
     "name": "stdout",
     "output_type": "stream",
     "text": [
      "1\n",
      "2\n",
      "3\n",
      "4\n",
      "5\n"
     ]
    }
   ],
   "source": [
    "#while문 예제1\n",
    "a = 1\n",
    "\n",
    "while a <= 5:\n",
    "    print(a)\n",
    "    a += 1"
   ]
  },
  {
   "cell_type": "code",
   "execution_count": 4,
   "metadata": {},
   "outputs": [
    {
     "name": "stdout",
     "output_type": "stream",
     "text": [
      "1\n",
      "2\n",
      "3\n",
      "4\n",
      "5\n"
     ]
    }
   ],
   "source": [
    "#for문 예제1\n",
    "num_list = [1, 2, 3, 4, 5]\n",
    "\n",
    "for num in num_list:\n",
    "    print(num)"
   ]
  },
  {
   "cell_type": "code",
   "execution_count": 9,
   "metadata": {},
   "outputs": [
    {
     "data": {
      "text/plain": [
       "12"
      ]
     },
     "execution_count": 9,
     "metadata": {},
     "output_type": "execute_result"
    }
   ],
   "source": [
    "#함수 예제1\n",
    "def f(x):\n",
    "    return x + 10\n",
    "f(2)"
   ]
  },
  {
   "cell_type": "code",
   "execution_count": 17,
   "metadata": {},
   "outputs": [
    {
     "name": "stdout",
     "output_type": "stream",
     "text": [
      "20\n",
      "20\n"
     ]
    }
   ],
   "source": [
    "#람다의 예제1\n",
    "def f(x):\n",
    "    return x + 10\n",
    "#일반적인 함수를 이용해 함수를 구현\n",
    "print(f(10))\n",
    "\n",
    "#lambda를 이용해 함수를 간단하게 구현\n",
    "print((lambda x: x+10)(10))"
   ]
  },
  {
   "cell_type": "code",
   "execution_count": 19,
   "metadata": {},
   "outputs": [
    {
     "ename": "NameError",
     "evalue": "name 'y' is not defined",
     "output_type": "error",
     "traceback": [
      "\u001b[1;31m---------------------------------------------------------------------------\u001b[0m",
      "\u001b[1;31mNameError\u001b[0m                                 Traceback (most recent call last)",
      "\u001b[1;32m<ipython-input-19-bb2f1e01eac4>\u001b[0m in \u001b[0;36m<module>\u001b[1;34m\u001b[0m\n\u001b[0;32m      2\u001b[0m \u001b[1;32mdef\u001b[0m \u001b[0mf\u001b[0m\u001b[1;33m(\u001b[0m\u001b[0mx\u001b[0m\u001b[1;33m)\u001b[0m\u001b[1;33m:\u001b[0m\u001b[1;33m\u001b[0m\u001b[1;33m\u001b[0m\u001b[0m\n\u001b[0;32m      3\u001b[0m     \u001b[1;32mreturn\u001b[0m \u001b[0mx\u001b[0m \u001b[1;33m+\u001b[0m \u001b[1;36m10\u001b[0m\u001b[1;33m\u001b[0m\u001b[1;33m\u001b[0m\u001b[0m\n\u001b[1;32m----> 4\u001b[1;33m \u001b[0mf\u001b[0m\u001b[1;33m(\u001b[0m\u001b[0my\u001b[0m\u001b[1;33m)\u001b[0m\u001b[1;33m\u001b[0m\u001b[1;33m\u001b[0m\u001b[0m\n\u001b[0m",
      "\u001b[1;31mNameError\u001b[0m: name 'y' is not defined"
     ]
    }
   ],
   "source": [
    "#람다의 예제2\n",
    "def f(x):\n",
    "    return x + 10\n",
    "f(y)"
   ]
  },
  {
   "cell_type": "markdown",
   "metadata": {},
   "source": [
    "## 라이브러리"
   ]
  },
  {
   "cell_type": "code",
   "execution_count": null,
   "metadata": {},
   "outputs": [],
   "source": [
    "#Built-in  함수 중 대표함수인 input과 print\n",
    "text = input(\"문장, 단어를 입력하세요.\")\n",
    "print(text)"
   ]
  },
  {
   "cell_type": "markdown",
   "metadata": {},
   "source": [
    "### numpy, pandas"
   ]
  },
  {
   "cell_type": "markdown",
   "metadata": {},
   "source": [
    "#### numpy라이브러리"
   ]
  },
  {
   "cell_type": "code",
   "execution_count": 1,
   "metadata": {},
   "outputs": [
    {
     "data": {
      "text/plain": [
       "[[1.0, 10.4, 3.2, 5.1, 7.5, 2.7],\n",
       " [1.0, 10.4, 3.2, 5.1, 7.5, 2.7],\n",
       " [1.0, 10.4, 3.2, 5.1, 7.5, 2.7]]"
      ]
     },
     "execution_count": 1,
     "metadata": {},
     "output_type": "execute_result"
    }
   ],
   "source": [
    "#numpy(numerical python)이란 뜻으로 배열 또는 다양한 자료구조를 다룰 수 있는 \n",
    "#클래스를 포함하고 있는 패키지\n",
    "\n",
    "#List 자료형을 이용한 다차원 배열의 예\n",
    "np =[1.0, 10.4, 3.2, 5.1, 7.5, 2.7]\n",
    "\n",
    "flotV = [np, np, np]\n",
    "flotV"
   ]
  },
  {
   "cell_type": "code",
   "execution_count": 3,
   "metadata": {},
   "outputs": [
    {
     "data": {
      "text/plain": [
       "[1.0, 10.4, 3.2, 5.1, 7.5, 2.7]"
      ]
     },
     "execution_count": 3,
     "metadata": {},
     "output_type": "execute_result"
    }
   ],
   "source": [
    "#1차원 배열 값 추출의 예\n",
    "#flov는 다차원 배열\n",
    "flotV[0]"
   ]
  },
  {
   "cell_type": "code",
   "execution_count": 6,
   "metadata": {},
   "outputs": [
    {
     "data": {
      "text/plain": [
       "'python'"
      ]
     },
     "execution_count": 6,
     "metadata": {},
     "output_type": "execute_result"
    }
   ],
   "source": [
    "flotV[0] = 'python'\n",
    "flotV[0]"
   ]
  },
  {
   "cell_type": "code",
   "execution_count": 9,
   "metadata": {},
   "outputs": [
    {
     "data": {
      "text/plain": [
       "array([5.5, 7. ])"
      ]
     },
     "execution_count": 9,
     "metadata": {},
     "output_type": "execute_result"
    }
   ],
   "source": [
    "import numpy as np\n",
    "#numpy 패키지를 np라는 명칭으로 축약\n",
    "\n",
    "a = np.array([1, 2.5, 4.0, 5.5, 7.0])\n",
    "\n",
    "a[3:]"
   ]
  },
  {
   "cell_type": "code",
   "execution_count": 19,
   "metadata": {},
   "outputs": [
    {
     "data": {
      "text/plain": [
       "20.0"
      ]
     },
     "execution_count": 19,
     "metadata": {},
     "output_type": "execute_result"
    }
   ],
   "source": [
    "a.sum()\n",
    "#np.array로 생성된 변수 a의 합을 출력"
   ]
  },
  {
   "cell_type": "code",
   "execution_count": 17,
   "metadata": {},
   "outputs": [
    {
     "data": {
      "text/plain": [
       "2.1213203435596424"
      ]
     },
     "execution_count": 17,
     "metadata": {},
     "output_type": "execute_result"
    }
   ],
   "source": [
    "a.std()\n",
    "#....로 생성된 변수 a의 표준편차를 출력"
   ]
  },
  {
   "cell_type": "code",
   "execution_count": 20,
   "metadata": {},
   "outputs": [
    {
     "data": {
      "text/plain": [
       "array([ 1. ,  3.5,  7.5, 13. , 20. ])"
      ]
     },
     "execution_count": 20,
     "metadata": {},
     "output_type": "execute_result"
    }
   ],
   "source": [
    "a.cumsum()\n",
    "#....로 생성된 변수 a의 누적 합을 출력"
   ]
  },
  {
   "cell_type": "code",
   "execution_count": 22,
   "metadata": {},
   "outputs": [
    {
     "name": "stdout",
     "output_type": "stream",
     "text": [
      "[1.  2.5 4.  5.5 7. ]\n",
      "[ 2.  5.  8. 11. 14.]\n",
      "[ 1.    6.25 16.   30.25 49.  ]\n",
      "[1.         1.58113883 2.         2.34520788 2.64575131]\n"
     ]
    }
   ],
   "source": [
    "print(a)\n",
    "print(a*2)\n",
    "print(a**2)\n",
    "print(np.sqrt(a))\n",
    "#변수 a의 값에 2를 루트를 적용한 값을 출력"
   ]
  },
  {
   "cell_type": "code",
   "execution_count": 24,
   "metadata": {},
   "outputs": [
    {
     "data": {
      "text/plain": [
       "array([[ 1.  ,  2.5 ,  4.  ,  5.5 ,  7.  ],\n",
       "       [ 1.  ,  6.25, 16.  , 30.25, 49.  ]])"
      ]
     },
     "execution_count": 24,
     "metadata": {},
     "output_type": "execute_result"
    }
   ],
   "source": [
    "#axis 축을 기준으로 합계 표현\n",
    "b = np.array([a, a**2])\n",
    "b"
   ]
  },
  {
   "cell_type": "code",
   "execution_count": 28,
   "metadata": {},
   "outputs": [
    {
     "name": "stdout",
     "output_type": "stream",
     "text": [
      "[ 2.    8.75 20.   35.75 56.  ]\n",
      "[ 20.  102.5]\n"
     ]
    }
   ],
   "source": [
    "print(b.sum(axis=0))\n",
    "print(b.sum(axis=1))"
   ]
  },
  {
   "cell_type": "code",
   "execution_count": 31,
   "metadata": {},
   "outputs": [
    {
     "data": {
      "text/plain": [
       "array([[0, 0, 0],\n",
       "       [0, 0, 0]])"
      ]
     },
     "execution_count": 31,
     "metadata": {},
     "output_type": "execute_result"
    }
   ],
   "source": [
    "np.array([[0,0,0],[0,0,0]])"
   ]
  },
  {
   "cell_type": "code",
   "execution_count": 35,
   "metadata": {},
   "outputs": [
    {
     "data": {
      "text/plain": [
       "array([[0, 0, 0],\n",
       "       [0, 0, 0]])"
      ]
     },
     "execution_count": 35,
     "metadata": {},
     "output_type": "execute_result"
    }
   ],
   "source": [
    "values = np.zeros((2,3), dtype=\"l\")\n",
    "values"
   ]
  },
  {
   "cell_type": "markdown",
   "metadata": {},
   "source": [
    "#### pandas"
   ]
  },
  {
   "cell_type": "code",
   "execution_count": 47,
   "metadata": {},
   "outputs": [],
   "source": [
    "import pandas as pd\n",
    "import numpy as np"
   ]
  },
  {
   "cell_type": "markdown",
   "metadata": {},
   "source": [
    "##### series"
   ]
  },
  {
   "cell_type": "code",
   "execution_count": 44,
   "metadata": {},
   "outputs": [
    {
     "name": "stdout",
     "output_type": "stream",
     "text": [
      "<class 'pandas.core.series.Series'>\n"
     ]
    },
    {
     "data": {
      "text/plain": [
       "2016-11-10     3000\n",
       "2016-11-11    32000\n",
       "2016-11-12     2700\n",
       "dtype: int64"
      ]
     },
     "execution_count": 44,
     "metadata": {},
     "output_type": "execute_result"
    }
   ],
   "source": [
    "pandas_series = pd.Series([3000, 32000, 2700], \n",
    "                          index = ['2016-11-10', '2016-11-11', '2016-11-12'])\n",
    "print(type(pandas_series))\n",
    "pandas_series"
   ]
  },
  {
   "cell_type": "code",
   "execution_count": 46,
   "metadata": {},
   "outputs": [
    {
     "data": {
      "text/plain": [
       "2016-11-11    32000\n",
       "2016-11-12     2700\n",
       "dtype: int64"
      ]
     },
     "execution_count": 46,
     "metadata": {},
     "output_type": "execute_result"
    }
   ],
   "source": [
    "pandas_series[1:]"
   ]
  },
  {
   "cell_type": "markdown",
   "metadata": {},
   "source": [
    "##### Data Frame"
   ]
  },
  {
   "cell_type": "code",
   "execution_count": 57,
   "metadata": {},
   "outputs": [
    {
     "data": {
      "text/html": [
       "<div>\n",
       "<style scoped>\n",
       "    .dataframe tbody tr th:only-of-type {\n",
       "        vertical-align: middle;\n",
       "    }\n",
       "\n",
       "    .dataframe tbody tr th {\n",
       "        vertical-align: top;\n",
       "    }\n",
       "\n",
       "    .dataframe thead th {\n",
       "        text-align: right;\n",
       "    }\n",
       "</style>\n",
       "<table border=\"1\" class=\"dataframe\">\n",
       "  <thead>\n",
       "    <tr style=\"text-align: right;\">\n",
       "      <th></th>\n",
       "      <th>numbers</th>\n",
       "    </tr>\n",
       "  </thead>\n",
       "  <tbody>\n",
       "    <tr>\n",
       "      <th>a</th>\n",
       "      <td>100</td>\n",
       "    </tr>\n",
       "    <tr>\n",
       "      <th>b</th>\n",
       "      <td>150</td>\n",
       "    </tr>\n",
       "    <tr>\n",
       "      <th>c</th>\n",
       "      <td>200</td>\n",
       "    </tr>\n",
       "    <tr>\n",
       "      <th>d</th>\n",
       "      <td>250</td>\n",
       "    </tr>\n",
       "    <tr>\n",
       "      <th>e</th>\n",
       "      <td>300</td>\n",
       "    </tr>\n",
       "  </tbody>\n",
       "</table>\n",
       "</div>"
      ],
      "text/plain": [
       "   numbers\n",
       "a      100\n",
       "b      150\n",
       "c      200\n",
       "d      250\n",
       "e      300"
      ]
     },
     "execution_count": 57,
     "metadata": {},
     "output_type": "execute_result"
    }
   ],
   "source": [
    "df = pd.DataFrame([100, 150, 200, 250, 300], columns = ['numbers'], \n",
    "                  index = ['a', 'b', 'c', 'd', 'e'])\n",
    "df"
   ]
  },
  {
   "cell_type": "code",
   "execution_count": 58,
   "metadata": {},
   "outputs": [
    {
     "name": "stdout",
     "output_type": "stream",
     "text": [
      "Index(['a', 'b', 'c', 'd', 'e'], dtype='object')\n",
      "Index(['numbers'], dtype='object')\n"
     ]
    }
   ],
   "source": [
    "print(df.index)\n",
    "print(df.columns)"
   ]
  },
  {
   "cell_type": "code",
   "execution_count": 73,
   "metadata": {},
   "outputs": [
    {
     "data": {
      "text/plain": [
       "numbers    200\n",
       "Name: c, dtype: int64"
      ]
     },
     "execution_count": 73,
     "metadata": {},
     "output_type": "execute_result"
    }
   ],
   "source": [
    "df.loc['c']\n",
    "#df.ix기능은 사용 불가능하여 대체 명령어를 찾음"
   ]
  }
 ],
 "metadata": {
  "kernelspec": {
   "display_name": "Python 3",
   "language": "python",
   "name": "python3"
  },
  "language_info": {
   "codemirror_mode": {
    "name": "ipython",
    "version": 3
   },
   "file_extension": ".py",
   "mimetype": "text/x-python",
   "name": "python",
   "nbconvert_exporter": "python",
   "pygments_lexer": "ipython3",
   "version": "3.7.6"
  }
 },
 "nbformat": 4,
 "nbformat_minor": 2
}
